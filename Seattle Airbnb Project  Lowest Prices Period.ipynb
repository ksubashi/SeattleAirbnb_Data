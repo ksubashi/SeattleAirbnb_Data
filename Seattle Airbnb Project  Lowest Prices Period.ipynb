{
 "cells": [
  {
   "cell_type": "code",
   "execution_count": 17,
   "id": "5cac4c1d",
   "metadata": {},
   "outputs": [],
   "source": [
    "import numpy as np\n",
    "import pandas as pd\n",
    "import matplotlib.pyplot as plt\n",
    "from sklearn.impute import KNNImputer\n",
    "%matplotlib inline\n",
    "\n",
    "\n",
    "calendar=pd.read_csv(\"calendar.csv\")\n",
    "listings=pd.read_csv(\"listings.csv\")\n",
    "reviews=pd.read_csv(\"reviews.csv\")\n"
   ]
  },
  {
   "cell_type": "code",
   "execution_count": 18,
   "id": "384a4191",
   "metadata": {},
   "outputs": [
    {
     "name": "stdout",
     "output_type": "stream",
     "text": [
      "Number of rows in calendar table is : 1393570\n",
      "Number of columns in calendar table is : 4\n",
      "Columns in calendar table with no missing values are : {'available', 'date', 'listing_id', 'price'}\n",
      "Columns in calendar table with most missing values : set()\n"
     ]
    },
    {
     "data": {
      "text/html": [
       "<div>\n",
       "<style scoped>\n",
       "    .dataframe tbody tr th:only-of-type {\n",
       "        vertical-align: middle;\n",
       "    }\n",
       "\n",
       "    .dataframe tbody tr th {\n",
       "        vertical-align: top;\n",
       "    }\n",
       "\n",
       "    .dataframe thead th {\n",
       "        text-align: right;\n",
       "    }\n",
       "</style>\n",
       "<table border=\"1\" class=\"dataframe\">\n",
       "  <thead>\n",
       "    <tr style=\"text-align: right;\">\n",
       "      <th></th>\n",
       "      <th>listing_id</th>\n",
       "      <th>date</th>\n",
       "      <th>available</th>\n",
       "      <th>price</th>\n",
       "    </tr>\n",
       "  </thead>\n",
       "  <tbody>\n",
       "    <tr>\n",
       "      <th>0</th>\n",
       "      <td>241032</td>\n",
       "      <td>2016-01-04</td>\n",
       "      <td>t</td>\n",
       "      <td>$85.00</td>\n",
       "    </tr>\n",
       "    <tr>\n",
       "      <th>1</th>\n",
       "      <td>241032</td>\n",
       "      <td>2016-01-05</td>\n",
       "      <td>t</td>\n",
       "      <td>$85.00</td>\n",
       "    </tr>\n",
       "    <tr>\n",
       "      <th>2</th>\n",
       "      <td>241032</td>\n",
       "      <td>2016-01-06</td>\n",
       "      <td>f</td>\n",
       "      <td>NaN</td>\n",
       "    </tr>\n",
       "    <tr>\n",
       "      <th>3</th>\n",
       "      <td>241032</td>\n",
       "      <td>2016-01-07</td>\n",
       "      <td>f</td>\n",
       "      <td>NaN</td>\n",
       "    </tr>\n",
       "    <tr>\n",
       "      <th>4</th>\n",
       "      <td>241032</td>\n",
       "      <td>2016-01-08</td>\n",
       "      <td>f</td>\n",
       "      <td>NaN</td>\n",
       "    </tr>\n",
       "  </tbody>\n",
       "</table>\n",
       "</div>"
      ],
      "text/plain": [
       "   listing_id        date available   price\n",
       "0      241032  2016-01-04         t  $85.00\n",
       "1      241032  2016-01-05         t  $85.00\n",
       "2      241032  2016-01-06         f     NaN\n",
       "3      241032  2016-01-07         f     NaN\n",
       "4      241032  2016-01-08         f     NaN"
      ]
     },
     "execution_count": 18,
     "metadata": {},
     "output_type": "execute_result"
    }
   ],
   "source": [
    "# Calendar's dataframe, checking number of rows and columns and columns with missing/nonmissing values\n",
    "\n",
    "\n",
    "print(\"Number of rows in calendar table is :\",calendar.shape[0])\n",
    "print(\"Number of columns in calendar table is :\",calendar.shape[1])\n",
    "no_nulls=set(calendar.dropna().columns)\n",
    "print(\"Columns in calendar table with no missing values are :\",no_nulls)\n",
    "most_nulls_cols=set(calendar.columns[calendar.isnull().mean()>0.75])\n",
    "print(\"Columns in calendar table with most missing values :\",most_nulls_cols)\n",
    "calendar.head()\n",
    "\n",
    "#Which is the period with lowest price for apartments in Seattle airbnb and what are the busiest times of the year?"
   ]
  },
  {
   "cell_type": "code",
   "execution_count": 12,
   "id": "e48f51fa",
   "metadata": {},
   "outputs": [
    {
     "name": "stdout",
     "output_type": "stream",
     "text": [
      "0          85.0\n",
      "1          85.0\n",
      "2          85.0\n",
      "3          85.0\n",
      "4          85.0\n",
      "           ... \n",
      "1393565    87.0\n",
      "1393566    87.0\n",
      "1393567    87.0\n",
      "1393568    87.0\n",
      "1393569    87.0\n",
      "Name: price, Length: 1393570, dtype: float64\n"
     ]
    }
   ],
   "source": [
    "#Converting price from string to float in calendar's data frame and creating a dataframeGroupBy for mean price value for specific\n",
    "#listing id\n",
    "\n",
    "calendar['price']=calendar['price'].replace({'\\$': '', ',': ''}, regex=True).astype(float)\n",
    "mean_vals=calendar.groupby('listing_id')['price'].transform('mean')\n",
    "print(mean_vals)\n"
   ]
  },
  {
   "cell_type": "code",
   "execution_count": 13,
   "id": "d94e4c5d",
   "metadata": {},
   "outputs": [
    {
     "data": {
      "text/plain": [
       "(100.0, 150.0)"
      ]
     },
     "execution_count": 13,
     "metadata": {},
     "output_type": "execute_result"
    },
    {
     "data": {
      "image/png": "[encoded data removed]",
      "text/plain": [
       "<Figure size 640x480 with 1 Axes>"
      ]
     },
     "metadata": {},
     "output_type": "display_data"
    }
   ],
   "source": [
    "\"\"\"\n",
    "Filling null values in Calendar dataframe with mean values created above.Plotting a mean price for each month of the year\n",
    "\"\"\"\n",
    "\n",
    "calendar['price'] = calendar['price'].fillna(mean_vals)\n",
    "calendar['date']=pd.to_datetime(calendar['date'])\n",
    "calendar['month']=calendar['date'].dt.month\n",
    "month_mean_price=calendar.groupby('month')['price'].mean()\n",
    "month_mean_price.plot(kind='bar')\n",
    "plt.ylim(100,150)"
   ]
  },
  {
   "cell_type": "code",
   "execution_count": 16,
   "id": "5569c064",
   "metadata": {},
   "outputs": [
    {
     "data": {
      "text/plain": [
       "<Axes: >"
      ]
     },
     "execution_count": 16,
     "metadata": {},
     "output_type": "execute_result"
    },
    {
     "data": {
      "image/png": "[encoded data removed]",
      "text/plain": [
       "<Figure size 640x480 with 1 Axes>"
      ]
     },
     "metadata": {},
     "output_type": "display_data"
    }
   ],
   "source": [
    "\"\"\"\n",
    "Getting from the calendar table only busy dates where available column is false and plotting most booked months.\n",
    "\"\"\"\n",
    "\n",
    "calendar_not_avail=calendar[calendar['available']=='f']\n",
    "calendar_not_avail['month'].value_counts().sort_index().plot(kind='bar')"
   ]
  },
  {
   "cell_type": "code",
   "execution_count": null,
   "id": "e2b7dc3b",
   "metadata": {},
   "outputs": [],
   "source": [
    "\"\"\"\n",
    "\n",
    "From the calendar table we have imputed null values in Price column with the mean price of that Specific Apartment ID in order \n",
    "to get Price column with 0 missing values for every day (20% of the column was NaN). After that we extract the month from the\n",
    "date column to get only the month out of the whole date, so we can make a mean price value groupped by only month to see when\n",
    "the price was lower and answer our business Question: Which is the time period with the lowest Prices in Seattle Apartments (Airbnb)?\n",
    "From the Bar Chart above we can see that on the first Month January prices are lower than anytime of the year. Also we can see\n",
    "from the above graph that the busiest period of times is still January which may have a correlation with the lower prices also.\n",
    "\n",
    "\"\"\""
   ]
  }
 ],
 "metadata": {
  "kernelspec": {
   "display_name": "Python 3 (ipykernel)",
   "language": "python",
   "name": "python3"
  },
  "language_info": {
   "codemirror_mode": {
    "name": "ipython",
    "version": 3
   },
   "file_extension": ".py",
   "mimetype": "text/x-python",
   "name": "python",
   "nbconvert_exporter": "python",
   "pygments_lexer": "ipython3",
   "version": "3.10.9"
  }
 },
 "nbformat": 4,
 "nbformat_minor": 5
}
