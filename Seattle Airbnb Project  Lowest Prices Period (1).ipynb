{
 "cells": [
  {
   "cell_type": "markdown",
   "id": "d3d304eb",
   "metadata": {},
   "source": [
    "# Which is the period with lowest price for apartments in Seattle airbnb and what are the busiest times of the year?"
   ]
  },
  {
   "cell_type": "code",
   "execution_count": 1,
   "id": "5cac4c1d",
   "metadata": {},
   "outputs": [],
   "source": [
    "import numpy as np\n",
    "import pandas as pd\n",
    "import matplotlib.pyplot as plt\n",
    "from sklearn.impute import KNNImputer\n",
    "%matplotlib inline\n",
    "\n",
    "\n",
    "calendar=pd.read_csv(\"calendar.csv\")\n",
    "listings=pd.read_csv(\"listings.csv\")\n",
    "reviews=pd.read_csv(\"reviews.csv\")\n"
   ]
  },
  {
   "cell_type": "markdown",
   "id": "37af1ced",
   "metadata": {},
   "source": [
    "Analyzing calendar's dataframe, checking number of rows and columns and columns with missing/nonmissing values"
   ]
  },
  {
   "cell_type": "code",
   "execution_count": 2,
   "id": "384a4191",
   "metadata": {},
   "outputs": [
    {
     "name": "stdout",
     "output_type": "stream",
     "text": [
      "Number of rows in calendar table is : 1393570\n",
      "Number of columns in calendar table is : 4\n",
      "Columns in calendar table with no missing values are : {'listing_id', 'price', 'date', 'available'}\n",
      "Columns in calendar table with most missing values : set()\n"
     ]
    },
    {
     "data": {
      "text/html": [
       "<div>\n",
       "<style scoped>\n",
       "    .dataframe tbody tr th:only-of-type {\n",
       "        vertical-align: middle;\n",
       "    }\n",
       "\n",
       "    .dataframe tbody tr th {\n",
       "        vertical-align: top;\n",
       "    }\n",
       "\n",
       "    .dataframe thead th {\n",
       "        text-align: right;\n",
       "    }\n",
       "</style>\n",
       "<table border=\"1\" class=\"dataframe\">\n",
       "  <thead>\n",
       "    <tr style=\"text-align: right;\">\n",
       "      <th></th>\n",
       "      <th>listing_id</th>\n",
       "      <th>date</th>\n",
       "      <th>available</th>\n",
       "      <th>price</th>\n",
       "    </tr>\n",
       "  </thead>\n",
       "  <tbody>\n",
       "    <tr>\n",
       "      <th>0</th>\n",
       "      <td>241032</td>\n",
       "      <td>2016-01-04</td>\n",
       "      <td>t</td>\n",
       "      <td>$85.00</td>\n",
       "    </tr>\n",
       "    <tr>\n",
       "      <th>1</th>\n",
       "      <td>241032</td>\n",
       "      <td>2016-01-05</td>\n",
       "      <td>t</td>\n",
       "      <td>$85.00</td>\n",
       "    </tr>\n",
       "    <tr>\n",
       "      <th>2</th>\n",
       "      <td>241032</td>\n",
       "      <td>2016-01-06</td>\n",
       "      <td>f</td>\n",
       "      <td>NaN</td>\n",
       "    </tr>\n",
       "    <tr>\n",
       "      <th>3</th>\n",
       "      <td>241032</td>\n",
       "      <td>2016-01-07</td>\n",
       "      <td>f</td>\n",
       "      <td>NaN</td>\n",
       "    </tr>\n",
       "    <tr>\n",
       "      <th>4</th>\n",
       "      <td>241032</td>\n",
       "      <td>2016-01-08</td>\n",
       "      <td>f</td>\n",
       "      <td>NaN</td>\n",
       "    </tr>\n",
       "  </tbody>\n",
       "</table>\n",
       "</div>"
      ],
      "text/plain": [
       "   listing_id        date available   price\n",
       "0      241032  2016-01-04         t  $85.00\n",
       "1      241032  2016-01-05         t  $85.00\n",
       "2      241032  2016-01-06         f     NaN\n",
       "3      241032  2016-01-07         f     NaN\n",
       "4      241032  2016-01-08         f     NaN"
      ]
     },
     "execution_count": 2,
     "metadata": {},
     "output_type": "execute_result"
    }
   ],
   "source": [
    "print(\"Number of rows in calendar table is :\",calendar.shape[0])\n",
    "print(\"Number of columns in calendar table is :\",calendar.shape[1])\n",
    "no_nulls=set(calendar.dropna().columns)\n",
    "print(\"Columns in calendar table with no missing values are :\",no_nulls)\n",
    "most_nulls_cols=set(calendar.columns[calendar.isnull().mean()>0.75])\n",
    "print(\"Columns in calendar table with most missing values :\",most_nulls_cols)\n",
    "calendar.head()"
   ]
  },
  {
   "cell_type": "markdown",
   "id": "7189b76f",
   "metadata": {},
   "source": [
    "In order to get the mean price values for all listings for different months of the year we need to convert price from string to float in calendar's data frame. \n",
    "\n"
   ]
  },
  {
   "cell_type": "markdown",
   "id": "0806a98a",
   "metadata": {},
   "source": [
    "For null values in price (because there isn't availability) we fill them with the mean price of that particular listing id."
   ]
  },
  {
   "cell_type": "code",
   "execution_count": 3,
   "id": "e48f51fa",
   "metadata": {},
   "outputs": [
    {
     "name": "stdout",
     "output_type": "stream",
     "text": [
      "0          85.0\n",
      "1          85.0\n",
      "2          85.0\n",
      "3          85.0\n",
      "4          85.0\n",
      "           ... \n",
      "1393565    87.0\n",
      "1393566    87.0\n",
      "1393567    87.0\n",
      "1393568    87.0\n",
      "1393569    87.0\n",
      "Name: price, Length: 1393570, dtype: float64\n"
     ]
    }
   ],
   "source": [
    "calendar['price']=calendar['price'].replace({'\\$': '', ',': ''}, regex=True).astype(float)\n",
    "mean_vals=calendar.groupby('listing_id')['price'].transform('mean')\n",
    "print(mean_vals)\n"
   ]
  },
  {
   "cell_type": "markdown",
   "id": "840475a6",
   "metadata": {},
   "source": [
    "## Which is the mean price for every month?"
   ]
  },
  {
   "cell_type": "markdown",
   "id": "2e372de5",
   "metadata": {},
   "source": [
    "Fillin null values in price column with mean values found in the cell above in order to get the full view of prices for every day listed. Converting the date column into datetime type to extract the month and plot mean prices by each month."
   ]
  },
  {
   "cell_type": "code",
   "execution_count": 4,
   "id": "d94e4c5d",
   "metadata": {},
   "outputs": [
    {
     "data": {
      "text/plain": [
       "(100.0, 150.0)"
      ]
     },
     "execution_count": 4,
     "metadata": {},
     "output_type": "execute_result"
    },
    {
     "data": {
      "image/png": "[encoded data removed]",
      "text/plain": [
       "<Figure size 640x480 with 1 Axes>"
      ]
     },
     "metadata": {},
     "output_type": "display_data"
    }
   ],
   "source": [
    "calendar['price'] = calendar['price'].fillna(mean_vals)\n",
    "calendar['date']=pd.to_datetime(calendar['date'])\n",
    "calendar['month']=calendar['date'].dt.month\n",
    "month_mean_price=calendar.groupby('month')['price'].mean()\n",
    "\n",
    "plt.title(\"Monthly mean prices\")\n",
    "month_mean_price.plot(kind='bar')\n",
    "plt.ylim(100,150)"
   ]
  },
  {
   "cell_type": "markdown",
   "id": "6049b692",
   "metadata": {},
   "source": [
    "## What are the busiest times of the year?"
   ]
  },
  {
   "cell_type": "markdown",
   "id": "196e575a",
   "metadata": {},
   "source": [
    "In order to understand which are the busiest times of the year we should get from the calendar table only busy dates where available column is false and plotting most booked months.\n"
   ]
  },
  {
   "cell_type": "code",
   "execution_count": 5,
   "id": "5569c064",
   "metadata": {},
   "outputs": [
    {
     "data": {
      "text/plain": [
       "<Axes: title={'center': 'Busiest times of the year'}>"
      ]
     },
     "execution_count": 5,
     "metadata": {},
     "output_type": "execute_result"
    },
    {
     "data": {
      "image/png": "[encoded data removed]",
      "text/plain": [
       "<Figure size 640x480 with 1 Axes>"
      ]
     },
     "metadata": {},
     "output_type": "display_data"
    }
   ],
   "source": [
    "calendar_not_avail=calendar[calendar['available']=='f']\n",
    "\n",
    "plt.title(\"Busiest times of the year\")\n",
    "calendar_not_avail['month'].value_counts().sort_index().plot(kind='bar')"
   ]
  },
  {
   "cell_type": "markdown",
   "id": "764dc7a8",
   "metadata": {},
   "source": [
    "Clearly, January is the most preferred time to travel in Seattle, and as we observed earlier, it also had the lowest mean price. Following January, July and August are the next preferred months, despite being the most expensive. This analysis allows us to gain insights into changing tourist demand over time.\n"
   ]
  }
 ],
 "metadata": {
  "kernelspec": {
   "display_name": "Python 3 (ipykernel)",
   "language": "python",
   "name": "python3"
  },
  "language_info": {
   "codemirror_mode": {
    "name": "ipython",
    "version": 3
   },
   "file_extension": ".py",
   "mimetype": "text/x-python",
   "name": "python",
   "nbconvert_exporter": "python",
   "pygments_lexer": "ipython3",
   "version": "3.10.9"
  }
 },
 "nbformat": 4,
 "nbformat_minor": 5
}
